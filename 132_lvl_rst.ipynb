{
 "cells": [
  {
   "cell_type": "code",
   "execution_count": 18,
   "metadata": {},
   "outputs": [],
   "source": [
    "import numpy as np\n",
    "import xarray as xr\n",
    "import matplotlib.pyplot as plt # general plotting\n",
    "import cartopy.crs as ccrs # plot on maps, better than the Basemap module\n",
    "import re\n",
    "import scipy.interpolate\n",
    "from scipy.interpolate import interp1d"
   ]
  },
  {
   "cell_type": "code",
   "execution_count": 19,
   "metadata": {},
   "outputs": [
    {
     "data": {
      "text/plain": [
       "<xarray.Dataset>\n",
       "Dimensions:       (lat: 91, lev: 72, lon: 144, time: 1)\n",
       "Coordinates:\n",
       "  * lon           (lon) float64 -180.0 -177.5 -175.0 -172.5 -170.0 -167.5 ...\n",
       "  * lat           (lat) float64 -89.5 -88.0 -86.0 -84.0 -82.0 -80.0 -78.0 ...\n",
       "  * lev           (lev) float64 1.0 2.0 3.0 4.0 5.0 6.0 7.0 8.0 9.0 10.0 ...\n",
       "  * time          (time) datetime64[ns] 2013-07-01\n",
       "Data variables:\n",
       "    AREA          (lat, lon) float64 ...\n",
       "    SPC_RCOOH     (time, lev, lat, lon) float32 ...\n",
       "    SPC_O2        (time, lev, lat, lon) float32 ...\n",
       "    SPC_N2        (time, lev, lat, lon) float32 ...\n",
       "    SPC_MOH       (time, lev, lat, lon) float32 ...\n",
       "    SPC_H2        (time, lev, lat, lon) float32 ...\n",
       "    SPC_O         (time, lev, lat, lon) float32 ...\n",
       "    SPC_HO2       (time, lev, lat, lon) float32 ...\n",
       "    SPC_O1D       (time, lev, lat, lon) float32 ...\n",
       "    SPC_OH        (time, lev, lat, lon) float32 ...\n",
       "    SPC_MO2       (time, lev, lat, lon) float32 ...\n",
       "    SPC_MCO3      (time, lev, lat, lon) float32 ...\n",
       "    SPC_MRO2      (time, lev, lat, lon) float32 ...\n",
       "    SPC_ETO2      (time, lev, lat, lon) float32 ...\n",
       "    SPC_R4O2      (time, lev, lat, lon) float32 ...\n",
       "    SPC_INO2      (time, lev, lat, lon) float32 ...\n",
       "    SPC_RIO2      (time, lev, lat, lon) float32 ...\n",
       "    SPC_HC5       (time, lev, lat, lon) float32 ...\n",
       "    SPC_VRO2      (time, lev, lat, lon) float32 ...\n",
       "    SPC_NMAO3     (time, lev, lat, lon) float32 ...\n",
       "    SPC_HC5OO     (time, lev, lat, lon) float32 ...\n",
       "    SPC_PIO2      (time, lev, lat, lon) float32 ...\n",
       "    SPC_ISOPNBO2  (time, lev, lat, lon) float32 ...\n",
       "    SPC_KO2       (time, lev, lat, lon) float32 ...\n",
       "    SPC_LIMO2     (time, lev, lat, lon) float32 ...\n",
       "    SPC_OLNN      (time, lev, lat, lon) float32 ...\n",
       "    SPC_OLND      (time, lev, lat, lon) float32 ...\n",
       "    SPC_RCO3      (time, lev, lat, lon) float32 ...\n",
       "    SPC_ATO2      (time, lev, lat, lon) float32 ...\n",
       "    SPC_MAOPO2    (time, lev, lat, lon) float32 ...\n",
       "    SPC_R4N1      (time, lev, lat, lon) float32 ...\n",
       "    SPC_MACROO    (time, lev, lat, lon) float32 ...\n",
       "    SPC_ISOPNDO2  (time, lev, lat, lon) float32 ...\n",
       "    SPC_B3O2      (time, lev, lat, lon) float32 ...\n",
       "    SPC_PO2       (time, lev, lat, lon) float32 ...\n",
       "    SPC_ISNOOA    (time, lev, lat, lon) float32 ...\n",
       "    SPC_MAN2      (time, lev, lat, lon) float32 ...\n",
       "    SPC_CH2OO     (time, lev, lat, lon) float32 ...\n",
       "    SPC_A3O2      (time, lev, lat, lon) float32 ...\n",
       "    SPC_MGLOO     (time, lev, lat, lon) float32 ...\n",
       "    SPC_PRN1      (time, lev, lat, lon) float32 ...\n",
       "    SPC_MGLYOO    (time, lev, lat, lon) float32 ...\n",
       "    SPC_IEPOXOO   (time, lev, lat, lon) float32 ...\n",
       "    SPC_CH3CHOO   (time, lev, lat, lon) float32 ...\n",
       "    SPC_GAOO      (time, lev, lat, lon) float32 ...\n",
       "    SPC_ISNOOB    (time, lev, lat, lon) float32 ...\n",
       "    SPC_MVKOO     (time, lev, lat, lon) float32 ...\n",
       "    SPC_ISNOHOO   (time, lev, lat, lon) float32 ...\n",
       "    SPC_ROH       (time, lev, lat, lon) float32 ...\n",
       "    SPC_H         (time, lev, lat, lon) float32 ...\n",
       "    SPC_MACRNO2   (time, lev, lat, lon) float32 ...\n",
       "    SPC_DIBOO     (time, lev, lat, lon) float32 ...\n",
       "    SPC_MOBAOO    (time, lev, lat, lon) float32 ...\n",
       "    SPC_INPN      (time, lev, lat, lon) float32 ...\n",
       "    SPC_MRP       (time, lev, lat, lon) float32 ...\n",
       "    SPC_MAOP      (time, lev, lat, lon) float32 ...\n",
       "    SPC_ISNP      (time, lev, lat, lon) float32 ...\n",
       "    SPC_DHMOB     (time, lev, lat, lon) float32 ...\n",
       "    SPC_ATOOH     (time, lev, lat, lon) float32 ...\n",
       "    SPC_HPC52O2   (time, lev, lat, lon) float32 ...\n",
       "    SPC_VRP       (time, lev, lat, lon) float32 ...\n",
       "    SPC_IAP       (time, lev, lat, lon) float32 ...\n",
       "    SPC_DHPCARP   (time, lev, lat, lon) float32 ...\n",
       "    SPC_R4P       (time, lev, lat, lon) float32 ...\n",
       "    SPC_PIP       (time, lev, lat, lon) float32 ...\n",
       "    SPC_PRPN      (time, lev, lat, lon) float32 ...\n",
       "    SPC_PP        (time, lev, lat, lon) float32 ...\n",
       "    SPC_RP        (time, lev, lat, lon) float32 ...\n",
       "    SPC_RB3P      (time, lev, lat, lon) float32 ...\n",
       "    SPC_RA3P      (time, lev, lat, lon) float32 ...\n",
       "    SPC_ETP       (time, lev, lat, lon) float32 ...\n",
       "    SPC_IMAO3     (time, lev, lat, lon) float32 ...\n",
       "    SPC_XRO2      (time, lev, lat, lon) float32 ...\n",
       "    SPC_N         (time, lev, lat, lon) float32 ...\n",
       "    SPC_BRO2      (time, lev, lat, lon) float32 ...\n",
       "    SPC_TRO2      (time, lev, lat, lon) float32 ...\n",
       "    SPC_PMNN      (time, lev, lat, lon) float32 ...\n",
       "    SPC_DHDC      (time, lev, lat, lon) float32 ...\n",
       "    SPC_PSO4      (time, lev, lat, lon) float32 ...\n",
       "    SPC_LCO       (time, lev, lat, lon) float32 ...\n",
       "    SPC_PCO       (time, lev, lat, lon) float32 ...\n",
       "    SPC_LOX       (time, lev, lat, lon) float32 ...\n",
       "    SPC_POX       (time, lev, lat, lon) float32 ...\n",
       "    SPC_SO4H2     (time, lev, lat, lon) float32 ...\n",
       "    SPC_SO4H1     (time, lev, lat, lon) float32 ...\n",
       "    SPC_PYAC      (time, lev, lat, lon) float32 ...\n",
       "    SPC_LXRO2N    (time, lev, lat, lon) float32 ...\n",
       "    SPC_LXRO2H    (time, lev, lat, lon) float32 ...\n",
       "    SPC_LTRO2N    (time, lev, lat, lon) float32 ...\n",
       "    SPC_LTRO2H    (time, lev, lat, lon) float32 ...\n",
       "    SPC_LISOPNO3  (time, lev, lat, lon) float32 ...\n",
       "    SPC_LISOPOH   (time, lev, lat, lon) float32 ...\n",
       "    SPC_LBRO2N    (time, lev, lat, lon) float32 ...\n",
       "    SPC_LBRO2H    (time, lev, lat, lon) float32 ...\n",
       "    SPC_CO2       (time, lev, lat, lon) float32 ...\n",
       "    SPC_MONX      (time, lev, lat, lon) float32 ...\n",
       "    SPC_AERI      (time, lev, lat, lon) float32 ...\n",
       "    SPC_ISALC     (time, lev, lat, lon) float32 ...\n",
       "    SPC_ISALA     (time, lev, lat, lon) float32 ...\n",
       "    SPC_I2O4      (time, lev, lat, lon) float32 ...\n",
       "    SPC_I2O3      (time, lev, lat, lon) float32 ...\n",
       "    SPC_I2O2      (time, lev, lat, lon) float32 ...\n",
       "    SPC_IONO2     (time, lev, lat, lon) float32 ...\n",
       "    SPC_IONO      (time, lev, lat, lon) float32 ...\n",
       "    SPC_INO       (time, lev, lat, lon) float32 ...\n",
       "    SPC_OIO       (time, lev, lat, lon) float32 ...\n",
       "    SPC_HI        (time, lev, lat, lon) float32 ...\n",
       "    SPC_IO        (time, lev, lat, lon) float32 ...\n",
       "    SPC_I         (time, lev, lat, lon) float32 ...\n",
       "    SPC_ICl       (time, lev, lat, lon) float32 ...\n",
       "    SPC_IBr       (time, lev, lat, lon) float32 ...\n",
       "    SPC_I2        (time, lev, lat, lon) float32 ...\n",
       "    SPC_HOI       (time, lev, lat, lon) float32 ...\n",
       "    SPC_CH2IBr    (time, lev, lat, lon) float32 ...\n",
       "    SPC_CH2ICl    (time, lev, lat, lon) float32 ...\n",
       "    SPC_CH2I2     (time, lev, lat, lon) float32 ...\n",
       "    SPC_CH3I      (time, lev, lat, lon) float32 ...\n",
       "    SPC_CH2Cl2    (time, lev, lat, lon) float32 ...\n",
       "    SPC_CHCl3     (time, lev, lat, lon) float32 ...\n",
       "    SPC_BrSALC    (time, lev, lat, lon) float32 ...\n",
       "    SPC_BrSALA    (time, lev, lat, lon) float32 ...\n",
       "    SPC_H2O       (time, lev, lat, lon) float32 ...\n",
       "    SPC_Cl2O2     (time, lev, lat, lon) float32 ...\n",
       "    SPC_Cl2       (time, lev, lat, lon) float32 ...\n",
       "    SPC_OClO      (time, lev, lat, lon) float32 ...\n",
       "    SPC_ClOO      (time, lev, lat, lon) float32 ...\n",
       "    SPC_ClNO2     (time, lev, lat, lon) float32 ...\n",
       "    SPC_ClNO3     (time, lev, lat, lon) float32 ...\n",
       "    SPC_HOCl      (time, lev, lat, lon) float32 ...\n",
       "    SPC_ClO       (time, lev, lat, lon) float32 ...\n",
       "    SPC_Cl        (time, lev, lat, lon) float32 ...\n",
       "    SPC_H2402     (time, lev, lat, lon) float32 ...\n",
       "    SPC_H1301     (time, lev, lat, lon) float32 ...\n",
       "    SPC_H1211     (time, lev, lat, lon) float32 ...\n",
       "    SPC_HCFC22    (time, lev, lat, lon) float32 ...\n",
       "    SPC_CFC12     (time, lev, lat, lon) float32 ...\n",
       "    SPC_CFC11     (time, lev, lat, lon) float32 ...\n",
       "    SPC_HCFC142b  (time, lev, lat, lon) float32 ...\n",
       "    SPC_HCFC141b  (time, lev, lat, lon) float32 ...\n",
       "    SPC_HCFC123   (time, lev, lat, lon) float32 ...\n",
       "    SPC_CFC115    (time, lev, lat, lon) float32 ...\n",
       "    SPC_CFC114    (time, lev, lat, lon) float32 ...\n",
       "    SPC_CFC113    (time, lev, lat, lon) float32 ...\n",
       "    SPC_CH3CCl3   (time, lev, lat, lon) float32 ...\n",
       "    SPC_CH3Cl     (time, lev, lat, lon) float32 ...\n",
       "    SPC_CCl4      (time, lev, lat, lon) float32 ...\n",
       "    SPC_HCl       (time, lev, lat, lon) float32 ...\n",
       "    SPC_BrCl      (time, lev, lat, lon) float32 ...\n",
       "    SPC_CH4       (time, lev, lat, lon) float32 ...\n",
       "    SPC_OCS       (time, lev, lat, lon) float32 ...\n",
       "    SPC_N2O       (time, lev, lat, lon) float32 ...\n",
       "    SPC_HC187     (time, lev, lat, lon) float32 ...\n",
       "    SPC_IPMN      (time, lev, lat, lon) float32 ...\n",
       "    SPC_INDIOL    (time, lev, lat, lon) float32 ...\n",
       "    SPC_MONITA    (time, lev, lat, lon) float32 ...\n",
       "    SPC_IONITA    (time, lev, lat, lon) float32 ...\n",
       "    SPC_HONIT     (time, lev, lat, lon) float32 ...\n",
       "    SPC_MONITU    (time, lev, lat, lon) float32 ...\n",
       "    SPC_MONITS    (time, lev, lat, lon) float32 ...\n",
       "    SPC_ISN1OA    (time, lev, lat, lon) float32 ...\n",
       "    SPC_ISN1OG    (time, lev, lat, lon) float32 ...\n",
       "    SPC_LVOCOA    (time, lev, lat, lon) float32 ...\n",
       "    SPC_LVOC      (time, lev, lat, lon) float32 ...\n",
       "    SPC_SOAMG     (time, lev, lat, lon) float32 ...\n",
       "    SPC_SOAGX     (time, lev, lat, lon) float32 ...\n",
       "    SPC_SOAME     (time, lev, lat, lon) float32 ...\n",
       "    SPC_SOAIE     (time, lev, lat, lon) float32 ...\n",
       "    SPC_IMAE      (time, lev, lat, lon) float32 ...\n",
       "    SPC_RIPD      (time, lev, lat, lon) float32 ...\n",
       "    SPC_RIPB      (time, lev, lat, lon) float32 ...\n",
       "    SPC_RIPA      (time, lev, lat, lon) float32 ...\n",
       "    SPC_ISN1      (time, lev, lat, lon) float32 ...\n",
       "    SPC_IEPOXD    (time, lev, lat, lon) float32 ...\n",
       "    SPC_IEPOXB    (time, lev, lat, lon) float32 ...\n",
       "    SPC_IEPOXA    (time, lev, lat, lon) float32 ...\n",
       "    SPC_HCOOH     (time, lev, lat, lon) float32 ...\n",
       "    SPC_ETHLN     (time, lev, lat, lon) float32 ...\n",
       "    SPC_DHDN      (time, lev, lat, lon) float32 ...\n",
       "    SPC_HPALD     (time, lev, lat, lon) float32 ...\n",
       "    SPC_ACTA      (time, lev, lat, lon) float32 ...\n",
       "    SPC_GLYX      (time, lev, lat, lon) float32 ...\n",
       "    SPC_MGLY      (time, lev, lat, lon) float32 ...\n",
       "    SPC_EOH       (time, lev, lat, lon) float32 ...\n",
       "    SPC_SOAS      (time, lev, lat, lon) float32 ...\n",
       "    SPC_SOAP      (time, lev, lat, lon) float32 ...\n",
       "    SPC_ASOA3     (time, lev, lat, lon) float32 ...\n",
       "    SPC_ASOA2     (time, lev, lat, lon) float32 ...\n",
       "    SPC_ASOA1     (time, lev, lat, lon) float32 ...\n",
       "    SPC_ASOAN     (time, lev, lat, lon) float32 ...\n",
       "    SPC_ASOG3     (time, lev, lat, lon) float32 ...\n",
       "    SPC_ASOG2     (time, lev, lat, lon) float32 ...\n",
       "    SPC_ASOG1     (time, lev, lat, lon) float32 ...\n",
       "    SPC_ISOA3     (time, lev, lat, lon) float32 ...\n",
       "    SPC_ISOA2     (time, lev, lat, lon) float32 ...\n",
       "    SPC_ISOA1     (time, lev, lat, lon) float32 ...\n",
       "    SPC_ISOG3     (time, lev, lat, lon) float32 ...\n",
       "    SPC_ISOG2     (time, lev, lat, lon) float32 ...\n",
       "    SPC_ISOG1     (time, lev, lat, lon) float32 ...\n",
       "    SPC_TSOA0     (time, lev, lat, lon) float32 ...\n",
       "    SPC_TSOA3     (time, lev, lat, lon) float32 ...\n",
       "    SPC_TSOA2     (time, lev, lat, lon) float32 ...\n",
       "    SPC_TSOA1     (time, lev, lat, lon) float32 ...\n",
       "    SPC_TSOG0     (time, lev, lat, lon) float32 ...\n",
       "    SPC_TSOG3     (time, lev, lat, lon) float32 ...\n",
       "    SPC_TSOG2     (time, lev, lat, lon) float32 ...\n",
       "    SPC_TSOG1     (time, lev, lat, lon) float32 ...\n",
       "    SPC_MTPO      (time, lev, lat, lon) float32 ...\n",
       "    SPC_LIMO      (time, lev, lat, lon) float32 ...\n",
       "    SPC_MTPA      (time, lev, lat, lon) float32 ...\n",
       "    SPC_XYLE      (time, lev, lat, lon) float32 ...\n",
       "    SPC_TOLU      (time, lev, lat, lon) float32 ...\n",
       "    SPC_BENZ      (time, lev, lat, lon) float32 ...\n",
       "    SPC_HNO2      (time, lev, lat, lon) float32 ...\n",
       "    SPC_NO3       (time, lev, lat, lon) float32 ...\n",
       "    SPC_NO2       (time, lev, lat, lon) float32 ...\n",
       "    SPC_MAP       (time, lev, lat, lon) float32 ...\n",
       "    SPC_MACRN     (time, lev, lat, lon) float32 ...\n",
       "    SPC_MVKN      (time, lev, lat, lon) float32 ...\n",
       "    SPC_GLYC      (time, lev, lat, lon) float32 ...\n",
       "    SPC_HAC       (time, lev, lat, lon) float32 ...\n",
       "    SPC_PROPNN    (time, lev, lat, lon) float32 ...\n",
       "    SPC_MOBA      (time, lev, lat, lon) float32 ...\n",
       "    SPC_ISOPNB    (time, lev, lat, lon) float32 ...\n",
       "    SPC_ISOPND    (time, lev, lat, lon) float32 ...\n",
       "    SPC_MPN       (time, lev, lat, lon) float32 ...\n",
       "    SPC_CH3Br     (time, lev, lat, lon) float32 ...\n",
       "    SPC_CH2Br2    (time, lev, lat, lon) float32 ...\n",
       "    SPC_CHBr3     (time, lev, lat, lon) float32 ...\n",
       "    SPC_BrNO3     (time, lev, lat, lon) float32 ...\n",
       "    SPC_BrNO2     (time, lev, lat, lon) float32 ...\n",
       "    SPC_HBr       (time, lev, lat, lon) float32 ...\n",
       "    SPC_HOBr      (time, lev, lat, lon) float32 ...\n",
       "    SPC_BrO       (time, lev, lat, lon) float32 ...\n",
       "    SPC_Br        (time, lev, lat, lon) float32 ...\n",
       "    SPC_Br2       (time, lev, lat, lon) float32 ...\n",
       "    SPC_SALC      (time, lev, lat, lon) float32 ...\n",
       "    SPC_SALA      (time, lev, lat, lon) float32 ...\n",
       "    SPC_DST4      (time, lev, lat, lon) float32 ...\n",
       "    SPC_DST3      (time, lev, lat, lon) float32 ...\n",
       "    SPC_DST2      (time, lev, lat, lon) float32 ...\n",
       "    SPC_DST1      (time, lev, lat, lon) float32 ...\n",
       "    SPC_OCPO      (time, lev, lat, lon) float32 ...\n",
       "    SPC_BCPO      (time, lev, lat, lon) float32 ...\n",
       "    SPC_OCPI      (time, lev, lat, lon) float32 ...\n",
       "    SPC_BCPI      (time, lev, lat, lon) float32 ...\n",
       "    SPC_NITs      (time, lev, lat, lon) float32 ...\n",
       "    SPC_NIT       (time, lev, lat, lon) float32 ...\n",
       "    SPC_NH4       (time, lev, lat, lon) float32 ...\n",
       "    SPC_NH3       (time, lev, lat, lon) float32 ...\n",
       "    SPC_MSA       (time, lev, lat, lon) float32 ...\n",
       "    SPC_SO4s      (time, lev, lat, lon) float32 ...\n",
       "    SPC_SO4       (time, lev, lat, lon) float32 ...\n",
       "    SPC_SO2       (time, lev, lat, lon) float32 ...\n",
       "    SPC_DMS       (time, lev, lat, lon) float32 ...\n",
       "    SPC_MP        (time, lev, lat, lon) float32 ...\n",
       "    SPC_HNO4      (time, lev, lat, lon) float32 ...\n",
       "    SPC_N2O5      (time, lev, lat, lon) float32 ...\n",
       "    SPC_C2H6      (time, lev, lat, lon) float32 ...\n",
       "    SPC_CH2O      (time, lev, lat, lon) float32 ...\n",
       "    SPC_C3H8      (time, lev, lat, lon) float32 ...\n",
       "    SPC_PRPE      (time, lev, lat, lon) float32 ...\n",
       "    SPC_R4N2      (time, lev, lat, lon) float32 ...\n",
       "    SPC_PPN       (time, lev, lat, lon) float32 ...\n",
       "    SPC_NPMN      (time, lev, lat, lon) float32 ...\n",
       "    SPC_MACR      (time, lev, lat, lon) float32 ...\n",
       "    SPC_MVK       (time, lev, lat, lon) float32 ...\n",
       "    SPC_RCHO      (time, lev, lat, lon) float32 ...\n",
       "    SPC_ALD2      (time, lev, lat, lon) float32 ...\n",
       "    SPC_MEK       (time, lev, lat, lon) float32 ...\n",
       "    SPC_ACET      (time, lev, lat, lon) float32 ...\n",
       "    SPC_H2O2      (time, lev, lat, lon) float32 ...\n",
       "    SPC_HNO3      (time, lev, lat, lon) float32 ...\n",
       "    SPC_ISOP      (time, lev, lat, lon) float32 ...\n",
       "    SPC_ALK4      (time, lev, lat, lon) float32 ...\n",
       "    SPC_CO        (time, lev, lat, lon) float32 ...\n",
       "    SPC_PAN       (time, lev, lat, lon) float32 ...\n",
       "    SPC_O3        (time, lev, lat, lon) float32 ...\n",
       "    SPC_NO        (time, lev, lat, lon) float32 ...\n",
       "Attributes:\n",
       "    CDI:          Climate Data Interface version 1.6.7 (https://code.zmaw.de/...\n",
       "    Conventions:  CF-1.4\n",
       "    history:      Mon Mar 26 12:34:01 2018: cdo remapdis,geos.2x25.grid initi...\n",
       "    title:        GEOSChem  restart\n",
       "    format:       NetCDF-4\n",
       "    conventions:  COARDS\n",
       "    CDO:          Climate Data Operators version 1.6.7 (https://code.zmaw.de/..."
      ]
     },
     "execution_count": 19,
     "metadata": {},
     "output_type": "execute_result"
    }
   ],
   "source": [
    "ds = xr.open_dataset(\".././initial_GEOSChem_rst.2x25_benchmark.nc\")\n",
    "ds # same as print(ds) in IPython/Jupyter environment"
   ]
  },
  {
   "cell_type": "code",
   "execution_count": 20,
   "metadata": {},
   "outputs": [],
   "source": [
    "molec = list()\n",
    "i = 0\n",
    "pattern = \"(SPC_\\w+)\"\n",
    "for i, line in enumerate(open('../molecular_species.txt')):\n",
    "    for match in re.finditer(pattern,line):\n",
    "        #molec.append(match)\n",
    "        molec.append(match.group())\n",
    "lev = np.linspace(1,132,num =132,dtype = 'float64')"
   ]
  },
  {
   "cell_type": "code",
   "execution_count": 21,
   "metadata": {},
   "outputs": [],
   "source": [
    "dataset = xr.Dataset()\n",
    "dataset.coords['time'] = ds.coords['time']\n",
    "dataset.coords['lev'] = (('lev'),lev)\n",
    "dataset.coords['lat'] = ds.coords['lat'] \n",
    "dataset.coords['lon'] = ds.coords['lon']\n",
    "dataset.attrs['title'] = 'GEOS-5 132 lvl restart'\n",
    "dataset.attrs['history'] = 'created by Ada Shaw with initial_GEOSChem_rst.c48_benchmark.nc'\n",
    "dataset.attrs['format'] = \"NetCDF-4\"\n",
    "dataset.attrs['conventions'] = 'COARDS'"
   ]
  },
  {
   "cell_type": "code",
   "execution_count": 22,
   "metadata": {},
   "outputs": [],
   "source": [
    "lon_dim = len(ds['lon'].values)\n",
    "lat_dim = len(ds['lat'].values)\n"
   ]
  },
  {
   "cell_type": "code",
   "execution_count": 23,
   "metadata": {},
   "outputs": [],
   "source": [
    "lev72 = np.reshape(np.repeat(np.linspace(1,72, num=72,dtype = 'float64'),lon_dim),[72,lon_dim])\n",
    "lev132 = np.reshape(np.repeat(np.linspace(1,72, num=132,dtype = 'float64'),lon_dim),[132,lon_dim])\n",
    "tick_molec = 1\n",
    "dr = ds[molec[tick_molec]].values\n",
    "lon_i =np.transpose(np.reshape(np.repeat(np.linspace(1,len(dr[0,0,0,:]),num= len(dr[0,0,0,:]),dtype ='float64'),72),[lon_dim,72]))\n",
    "lon_f = np.transpose(np.reshape(np.repeat(np.linspace(1,len(dr[0,0,0,:]),num= len(dr[0,0,0,:]),dtype ='float32'),132),[lon_dim,132]))\n",
    "conc_interp = np.ndarray(shape=(dr.shape[0],132,dr.shape[2],dr.shape[3]), dtype='f', order='F')"
   ]
  },
  {
   "cell_type": "code",
   "execution_count": 24,
   "metadata": {},
   "outputs": [
    {
     "data": {
      "text/plain": [
       "(1, 72, 91, 144)"
      ]
     },
     "execution_count": 24,
     "metadata": {},
     "output_type": "execute_result"
    }
   ],
   "source": [
    "dr.shape"
   ]
  },
  {
   "cell_type": "code",
   "execution_count": null,
   "metadata": {},
   "outputs": [],
   "source": [
    "for tick_molec in range(len(molec)):\n",
    "    dr = ds[molec[tick_molec]].values\n",
    "    for tick_lat in range(lat_dim):\n",
    "        interp = scipy.interpolate.Rbf(lon_i,lev72 ,dr[0,:,tick_lat,:], function='linear')\n",
    "        conc_interp[0,:,tick_lat,:] = interp(lon_f,lev132)\n",
    "    dataset[molec[tick_molec]] = (('time','lev','lat','lon'),interp(lon_f,lev132))\n",
    "    dataset.data_vars[molec[tick_molec]].attrs = ds.data_vars[molec[tick_molec]].attrs"
   ]
  },
  {
   "cell_type": "code",
   "execution_count": 25,
   "metadata": {},
   "outputs": [],
   "source": [
    "#check if loop works\n",
    "tick_molec = 275\n",
    "dr = ds[molec[tick_molec]].values\n",
    "for tick_lat in range(lat_dim):\n",
    "    interp = scipy.interpolate.Rbf(lon_i,lev72 ,dr[0,:,tick_lat,:], function='linear')\n",
    "    conc_interp[0,:,tick_lat,:] = interp(lon_f,lev132)\n",
    "dataset[molec[tick_molec]] = (('time','lev','lat','lon'),conc_interp)\n",
    "dataset.data_vars[molec[tick_molec]].attrs = ds.data_vars[molec[tick_molec]].attrs"
   ]
  },
  {
   "cell_type": "code",
   "execution_count": 29,
   "metadata": {},
   "outputs": [
    {
     "data": {
      "text/plain": [
       "[<matplotlib.lines.Line2D at 0x10f951ac8>]"
      ]
     },
     "execution_count": 29,
     "metadata": {},
     "output_type": "execute_result"
    },
    {
     "data": {
      "image/png": "[encoded data removed]",
      "text/plain": [
       "<matplotlib.figure.Figure at 0x1a33b913c8>"
      ]
     },
     "metadata": {},
     "output_type": "display_data"
    }
   ],
   "source": [
    "#check if ozone profiles are similar\n",
    "#72 levels\n",
    "do3 = ds[\"SPC_O3\"]\n",
    "lev_72 = do3.sel(lon = 175.0,lat = 88,time = '2013-07-01T00:00:00.000000000')\n",
    "\n",
    "plt.plot(lev_72, lev_72['lev'])\n",
    "plt.ylabel('lev');plt.xlabel('ppbv')\n",
    "plt.title('Ozone profile at $(30^{\\circ}N, 60^{\\circ}E)$')\n",
    "#132 levels\n",
    "do3_interp = dataset['SPC_O3']\n",
    "lev_132 = do3_interp.sel(lon = 175.,lat = 88.,time = \"2013-07-01T00:00:00.000000000\")\n",
    "plt.plot(lev_132, np.linspace(1,72,num=132),'r')"
   ]
  },
  {
   "cell_type": "code",
   "execution_count": 27,
   "metadata": {},
   "outputs": [
    {
     "data": {
      "text/plain": [
       "array([-180. , -177.5, -175. , -172.5, -170. , -167.5, -165. , -162.5,\n",
       "       -160. , -157.5, -155. , -152.5, -150. , -147.5, -145. , -142.5,\n",
       "       -140. , -137.5, -135. , -132.5, -130. , -127.5, -125. , -122.5,\n",
       "       -120. , -117.5, -115. , -112.5, -110. , -107.5, -105. , -102.5,\n",
       "       -100. ,  -97.5,  -95. ,  -92.5,  -90. ,  -87.5,  -85. ,  -82.5,\n",
       "        -80. ,  -77.5,  -75. ,  -72.5,  -70. ,  -67.5,  -65. ,  -62.5,\n",
       "        -60. ,  -57.5,  -55. ,  -52.5,  -50. ,  -47.5,  -45. ,  -42.5,\n",
       "        -40. ,  -37.5,  -35. ,  -32.5,  -30. ,  -27.5,  -25. ,  -22.5,\n",
       "        -20. ,  -17.5,  -15. ,  -12.5,  -10. ,   -7.5,   -5. ,   -2.5,\n",
       "          0. ,    2.5,    5. ,    7.5,   10. ,   12.5,   15. ,   17.5,\n",
       "         20. ,   22.5,   25. ,   27.5,   30. ,   32.5,   35. ,   37.5,\n",
       "         40. ,   42.5,   45. ,   47.5,   50. ,   52.5,   55. ,   57.5,\n",
       "         60. ,   62.5,   65. ,   67.5,   70. ,   72.5,   75. ,   77.5,\n",
       "         80. ,   82.5,   85. ,   87.5,   90. ,   92.5,   95. ,   97.5,\n",
       "        100. ,  102.5,  105. ,  107.5,  110. ,  112.5,  115. ,  117.5,\n",
       "        120. ,  122.5,  125. ,  127.5,  130. ,  132.5,  135. ,  137.5,\n",
       "        140. ,  142.5,  145. ,  147.5,  150. ,  152.5,  155. ,  157.5,\n",
       "        160. ,  162.5,  165. ,  167.5,  170. ,  172.5,  175. ,  177.5])"
      ]
     },
     "execution_count": 27,
     "metadata": {},
     "output_type": "execute_result"
    }
   ],
   "source": [
    "ds['lon'].values"
   ]
  },
  {
   "cell_type": "code",
   "execution_count": 28,
   "metadata": {},
   "outputs": [
    {
     "data": {
      "text/plain": [
       "array([-89.5, -88. , -86. , -84. , -82. , -80. , -78. , -76. , -74. ,\n",
       "       -72. , -70. , -68. , -66. , -64. , -62. , -60. , -58. , -56. ,\n",
       "       -54. , -52. , -50. , -48. , -46. , -44. , -42. , -40. , -38. ,\n",
       "       -36. , -34. , -32. , -30. , -28. , -26. , -24. , -22. , -20. ,\n",
       "       -18. , -16. , -14. , -12. , -10. ,  -8. ,  -6. ,  -4. ,  -2. ,\n",
       "         0. ,   2. ,   4. ,   6. ,   8. ,  10. ,  12. ,  14. ,  16. ,\n",
       "        18. ,  20. ,  22. ,  24. ,  26. ,  28. ,  30. ,  32. ,  34. ,\n",
       "        36. ,  38. ,  40. ,  42. ,  44. ,  46. ,  48. ,  50. ,  52. ,\n",
       "        54. ,  56. ,  58. ,  60. ,  62. ,  64. ,  66. ,  68. ,  70. ,\n",
       "        72. ,  74. ,  76. ,  78. ,  80. ,  82. ,  84. ,  86. ,  88. ,\n",
       "        89.5])"
      ]
     },
     "execution_count": 28,
     "metadata": {},
     "output_type": "execute_result"
    }
   ],
   "source": [
    "ds['lat'].values"
   ]
  },
  {
   "cell_type": "code",
   "execution_count": null,
   "metadata": {},
   "outputs": [],
   "source": [
    "ds.coords['time']"
   ]
  },
  {
   "cell_type": "code",
   "execution_count": null,
   "metadata": {},
   "outputs": [],
   "source": [
    "dataset"
   ]
  },
  {
   "cell_type": "code",
   "execution_count": null,
   "metadata": {},
   "outputs": [],
   "source": [
    "dataset.to_netcdf('132_lvl_rst.nc','w')"
   ]
  }
 ],
 "metadata": {
  "kernelspec": {
   "display_name": "Python 3",
   "language": "python",
   "name": "python3"
  },
  "language_info": {
   "codemirror_mode": {
    "name": "ipython",
    "version": 3
   },
   "file_extension": ".py",
   "mimetype": "text/x-python",
   "name": "python",
   "nbconvert_exporter": "python",
   "pygments_lexer": "ipython3",
   "version": "3.6.4"
  }
 },
 "nbformat": 4,
 "nbformat_minor": 2
}
